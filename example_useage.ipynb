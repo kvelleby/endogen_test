{
 "cells": [
  {
   "cell_type": "code",
   "execution_count": null,
   "metadata": {},
   "outputs": [],
   "source": [
    "from endogen.endogen import EndogenousSystem\n",
    "from endogen.config import GlobalSimConfig, InputModel, ExogenModel, Lags\n",
    "\n",
    "from dataclasses import asdict\n",
    "import hydra\n",
    "from hydra.utils import instantiate\n",
    "\n",
    "from mlforecast.forecast import MLForecast\n",
    "from sklearn.linear_model import LinearRegression"
   ]
  },
  {
   "cell_type": "markdown",
   "metadata": {},
   "source": [
    "# Minimal example without using configuration files"
   ]
  },
  {
   "cell_type": "code",
   "execution_count": null,
   "metadata": {},
   "outputs": [],
   "source": [
    "gc = GlobalSimConfig(input_data = \"data/cy_data_static_test.csv\",\n",
    "                     time_var = \"year\",\n",
    "                     unit_var = \"gwcode\",\n",
    "                     nsim = 10,\n",
    "                     end = 2100,\n",
    "                     include_past_n = 30,\n",
    "                     start = 2022,\n",
    "                     vars = ['gdppc', 'psecprop', 'population'])\n",
    "\n",
    "gdppc_model = InputModel(stage = \"writing\",\n",
    "           output_var= \"gdppc\",\n",
    "           input_vars = [\"gdppc_l1\", \"psecprop_l1\", \"population_l1\"],\n",
    "           model = MLForecast(models = LinearRegression()),\n",
    "           lags = [Lags(num_lag = 1, input_vars = [\"gdppc\", \"psecprop\", \"population\"])])\n",
    "\n",
    "edu_model = InputModel(stage = \"writing\",\n",
    "           output_var= \"psecprop\",\n",
    "           input_vars = [\"gdppc_l1\", \"psecprop_l1\"],\n",
    "           model = MLForecast(models = LinearRegression()),\n",
    "           lags = [Lags(num_lag = 1, input_vars = [\"gdppc\", \"psecprop\"])])\n",
    "\n",
    "pop_model = ExogenModel(output_var = \"population\",\n",
    "                        exogen_data = \"data/pop_test_exog.csv\")\n",
    "\n",
    "s = EndogenousSystem(**asdict(gc))\n",
    "s.models.add_models([gdppc_model, edu_model, pop_model])\n",
    "s.create_forecast_container()\n",
    "s.fit_models()\n",
    "s.simulate()"
   ]
  },
  {
   "cell_type": "markdown",
   "metadata": {},
   "source": [
    "## Plot results"
   ]
  },
  {
   "cell_type": "code",
   "execution_count": null,
   "metadata": {},
   "outputs": [],
   "source": [
    "s.plot(\"gdppc\", unit = 475)\n",
    "s.plot(\"psecprop\", unit = 475)\n",
    "s.plot(\"population\", unit = 475)\n",
    "s.plot(\"population_l1\", unit = 475)"
   ]
  },
  {
   "cell_type": "markdown",
   "metadata": {},
   "source": [
    "## A graph representation of the model system"
   ]
  },
  {
   "cell_type": "code",
   "execution_count": null,
   "metadata": {},
   "outputs": [],
   "source": [
    "s.models.plot()"
   ]
  },
  {
   "cell_type": "markdown",
   "metadata": {},
   "source": [
    "# A more expansive example using configuration files\n",
    "\n",
    "Here we use the configuration files found in the \"conf\" sub-folder. The conf/config.yaml points to .yaml files in conf/global_config and conf/variables. We load these files with hydra. When instantiating, the configuration is made into Python classes defined in endogen/config.py. These are helpers that make it easier to set up our system of endogenous variables."
   ]
  },
  {
   "cell_type": "code",
   "execution_count": null,
   "metadata": {},
   "outputs": [],
   "source": [
    "with hydra.initialize(version_base = \"1.3\", config_path=\"conf\"):\n",
    "    config = hydra.compose(config_name = \"config\")\n",
    "    config = instantiate(config, _convert_=\"all\")"
   ]
  },
  {
   "cell_type": "code",
   "execution_count": null,
   "metadata": {},
   "outputs": [],
   "source": [
    "s = EndogenousSystem(**asdict(config.global_config))\n",
    "s.models.add_models(config.variables)\n",
    "s.create_forecast_container()"
   ]
  },
  {
   "cell_type": "markdown",
   "metadata": {},
   "source": [
    "The model scheduler uses the graph representation of our endogenous system, breaks it down into a tranformation step and a forecast step, and determines the sequence calculations must be done. It returns a list of lists that the system then can iterate over. The scheduler is baked into the simulation system, and you do not need to interact with this yourself."
   ]
  },
  {
   "cell_type": "code",
   "execution_count": null,
   "metadata": {},
   "outputs": [],
   "source": [
    "t0, t1 = s.models._model_schedule\n",
    "t0, t1"
   ]
  },
  {
   "cell_type": "code",
   "execution_count": null,
   "metadata": {},
   "outputs": [],
   "source": [
    "s.models.plot()"
   ]
  },
  {
   "cell_type": "code",
   "execution_count": null,
   "metadata": {},
   "outputs": [],
   "source": [
    "s.fit_models()"
   ]
  },
  {
   "cell_type": "code",
   "execution_count": null,
   "metadata": {},
   "outputs": [],
   "source": [
    "s.simulate()"
   ]
  },
  {
   "cell_type": "code",
   "execution_count": null,
   "metadata": {},
   "outputs": [],
   "source": [
    "s.plot(\"gdppc\", unit = 475)\n",
    "s.plot(\"intensity_level\", unit = 475)\n",
    "s.plot(\"v2x_libdem\", unit = 475)\n",
    "s.plot(\"grwth\", unit = 475)\n",
    "s.plot(\"psecprop\", unit = 475)\n",
    "s.plot(\"population\", unit = 475)\n",
    "s.plot(\"rgdp\", unit = 475)"
   ]
  },
  {
   "cell_type": "code",
   "execution_count": null,
   "metadata": {},
   "outputs": [],
   "source": []
  }
 ],
 "metadata": {
  "kernelspec": {
   "display_name": "polimpact_env",
   "language": "python",
   "name": "python3"
  },
  "language_info": {
   "codemirror_mode": {
    "name": "ipython",
    "version": 3
   },
   "file_extension": ".py",
   "mimetype": "text/x-python",
   "name": "python",
   "nbconvert_exporter": "python",
   "pygments_lexer": "ipython3",
   "version": "3.10.13"
  }
 },
 "nbformat": 4,
 "nbformat_minor": 2
}
